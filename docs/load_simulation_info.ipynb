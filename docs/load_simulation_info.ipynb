{
 "cells": [
  {
   "cell_type": "markdown",
   "metadata": {},
   "source": [
    "## Get the information of a simulation"
   ]
  },
  {
   "cell_type": "code",
   "execution_count": 1,
   "metadata": {},
   "outputs": [],
   "source": [
    "from pyhipp_sims import sims"
   ]
  },
  {
   "cell_type": "markdown",
   "metadata": {},
   "source": [
    "PyHippSims predefines a set of simulation runs, e.g. for TNG project:"
   ]
  },
  {
   "cell_type": "code",
   "execution_count": 8,
   "metadata": {},
   "outputs": [
    {
     "data": {
      "text/plain": [
       "(75.0,\n",
       " array([0.00000000e+00, 5.05574296e-04, 0.00000000e+00, 4.71972931e-05,\n",
       "        0.00000000e+00, 0.00000000e+00]))"
      ]
     },
     "execution_count": 8,
     "metadata": {},
     "output_type": "execute_result"
    }
   ],
   "source": [
    "sim_info = sims.predefined['tng']\n",
    "sim_info.box_size, sim_info.mass_table"
   ]
  },
  {
   "cell_type": "markdown",
   "metadata": {},
   "source": [
    "Get a instance for the cosmology used in the simulation:"
   ]
  },
  {
   "cell_type": "code",
   "execution_count": 11,
   "metadata": {},
   "outputs": [
    {
     "data": {
      "text/plain": [
       "{ 'name': 'tng',\n",
       "  'data_dir': '/Users/yangyaochen/work/dev/astro-packages/pyhipp_sims/dev/packages/pyhipp/astro/data/cosmologies/tng',\n",
       "  'meta': {'measurement': 'Planck2015'},\n",
       "  'params': [ {'name': 'hubble', 'value': 0.6774},\n",
       "              {'name': 'omega_m0', 'value': 0.3089},\n",
       "              {'name': 'omega_l0', 'value': 0.6911},\n",
       "              {'name': 'omega_b0', 'value': 0.0486},\n",
       "              {'name': 'sigma_8', 'value': 0.8159},\n",
       "              {'name': 'n_spec', 'value': 0.9667},\n",
       "              {'name': 't_cmb', 'value': 2.7255}]}"
      ]
     },
     "execution_count": 11,
     "metadata": {},
     "output_type": "execute_result"
    }
   ],
   "source": [
    "cosm = sim_info.cosmology\n",
    "cosm"
   ]
  },
  {
   "cell_type": "markdown",
   "metadata": {},
   "source": [
    "Get the cosmological parameters:"
   ]
  },
  {
   "cell_type": "code",
   "execution_count": 14,
   "metadata": {},
   "outputs": [
    {
     "data": {
      "text/plain": [
       "(array(0.6774), array(0.6911))"
      ]
     },
     "execution_count": 14,
     "metadata": {},
     "output_type": "execute_result"
    }
   ],
   "source": [
    "cosm.hubble, cosm.omega_l0"
   ]
  },
  {
   "cell_type": "markdown",
   "metadata": {},
   "source": [
    "Perform the distance computations:"
   ]
  },
  {
   "cell_type": "code",
   "execution_count": 15,
   "metadata": {},
   "outputs": [
    {
     "data": {
      "text/plain": [
       "array([   0.        , 2300.37192683, 3597.98852407])"
      ]
     },
     "execution_count": 15,
     "metadata": {},
     "output_type": "execute_result"
    }
   ],
   "source": [
    "cosm.distances.comoving_at(z=[0.0, 1.0, 2.0])"
   ]
  },
  {
   "cell_type": "markdown",
   "metadata": {},
   "source": [
    "If you would like to use the API of the `AstroPy` library, use `.astropy_model` to get it:"
   ]
  },
  {
   "cell_type": "code",
   "execution_count": 13,
   "metadata": {},
   "outputs": [
    {
     "data": {
      "text/plain": [
       "FlatLambdaCDM(name=None, H0=<Quantity 67.74 km / (Mpc s)>, Om0=0.3089, Tcmb0=<Quantity 2.7255 K>, Neff=3.04, m_nu=<Quantity [0., 0., 0.] eV>, Ob0=0.0486)"
      ]
     },
     "execution_count": 13,
     "metadata": {},
     "output_type": "execute_result"
    }
   ],
   "source": [
    "astropy_cosm = cosm.astropy_model\n",
    "astropy_cosm"
   ]
  }
 ],
 "metadata": {
  "kernelspec": {
   "display_name": "Python 3",
   "language": "python",
   "name": "python3"
  },
  "language_info": {
   "codemirror_mode": {
    "name": "ipython",
    "version": 3
   },
   "file_extension": ".py",
   "mimetype": "text/x-python",
   "name": "python",
   "nbconvert_exporter": "python",
   "pygments_lexer": "ipython3",
   "version": "3.11.9"
  }
 },
 "nbformat": 4,
 "nbformat_minor": 2
}
